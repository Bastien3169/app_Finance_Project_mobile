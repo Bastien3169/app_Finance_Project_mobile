{
 "cells": [
  {
   "cell_type": "code",
   "execution_count": null,
   "id": "7d13a7f6-63e5-470e-be43-d7d6a00f4007",
   "metadata": {},
   "outputs": [],
   "source": [
    "    def get_composition_indice(self, selected_indice):\n",
    "        try:\n",
    "            with sqlite3.connect(self.db_path) as conn:\n",
    "                query = \"\"\"\n",
    "               SELECT \n",
    "                \ts.*\n",
    "                FROM stocks_infos_par_indice s\n",
    "                JOIN indices_infos i ON s.Ticker_Indice_Yf = i.Ticker_Indice_Yf\n",
    "                WHERE i.Short_Name_Indice =  ?\n",
    "                ORDER BY s.Short_Name_Stocks\n",
    "                \"\"\"\n",
    "                df = pd.read_sql(query, conn, params=(selected_indice,))\n",
    "            return df\n",
    "        except Exception as e:\n",
    "            print(f\"Erreur: {e}\")\n",
    "            return pd.DataFrame()\n"
   ]
  },
  {
   "cell_type": "code",
   "execution_count": null,
   "id": "4ff8f8ac-fd3b-4a20-95b8-4ecd6dd28999",
   "metadata": {},
   "outputs": [],
   "source": [
    "# Version arranger avec \"moi\"\n",
    "\n",
    "def get_composition_indice(self, selected_indice):\n",
    "    try:\n",
    "        with sqlite3.connect(self.db_path) as conn:\n",
    "            query = \"\"\"\n",
    "            SELECT \n",
    "                si.*,\n",
    "                tsi.Ponderation\n",
    "            FROM ticker_stocks_indices tsi\n",
    "            JOIN indices_infos ii ON tsi.\"Ticker Indice Yf\" = ii.\"Ticker Indice Yf\"\n",
    "            JOIN stocks_infos si ON tsi.\"Ticker Stocks Yf\" = si.\"Ticker Stocks Yf\"\n",
    "            WHERE ii.\"Short_Name_Indice\" = ?\n",
    "            ORDER BY tsi.Ponderation DESC\n",
    "            \"\"\"\n",
    "            df = pd.read_sql(query, conn, params=(selected_indice,))\n",
    "        return df\n",
    "    except Exception as e:\n",
    "        print(f\"Erreur: {e}\")\n",
    "        return pd.DataFrame()"
   ]
  }
 ],
 "metadata": {
  "kernelspec": {
   "display_name": "Python 3 (ipykernel)",
   "language": "python",
   "name": "python3"
  },
  "language_info": {
   "codemirror_mode": {
    "name": "ipython",
    "version": 3
   },
   "file_extension": ".py",
   "mimetype": "text/x-python",
   "name": "python",
   "nbconvert_exporter": "python",
   "pygments_lexer": "ipython3",
   "version": "3.12.4"
  }
 },
 "nbformat": 4,
 "nbformat_minor": 5
}

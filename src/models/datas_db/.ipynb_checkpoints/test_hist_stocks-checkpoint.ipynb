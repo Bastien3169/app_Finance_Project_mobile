{
 "cells": [
  {
   "cell_type": "code",
   "execution_count": 8,
   "id": "3323b0af-aadf-4bd6-af7d-6dbfc8633aee",
   "metadata": {},
   "outputs": [
    {
     "name": "stderr",
     "output_type": "stream",
     "text": [
      "Could not get exchangeTimezoneName for ticker 'LEN' reason: 'chart'\n",
      "$LEN: possibly delisted; no price data found  (1wk 1926-05-01 -> 2025-04-06)\n",
      "Failed to get ticker 'VRSN' reason: HTTPSConnectionPool(host='query2.finance.yahoo.com', port=443): Read timed out. (read timeout=10)\n"
     ]
    },
    {
     "name": "stdout",
     "output_type": "stream",
     "text": [
      "Erreur lors de la récupération des données pour VRSN: HTTPSConnectionPool(host='query1.finance.yahoo.com', port=443): Read timed out. (read timeout=30)\n"
     ]
    },
    {
     "name": "stderr",
     "output_type": "stream",
     "text": [
      "/var/folders/t2/7z3y2qws3jx8xljd1wjn53700000gn/T/ipykernel_52300/847908834.py:32: FutureWarning: The behavior of array concatenation with empty entries is deprecated. In a future version, this will no longer exclude empty items when determining the result dtype. To retain the old behavior, exclude the empty entries before the concat operation.\n",
      "  df = pd.concat(dfs)\n"
     ]
    },
    {
     "name": "stdout",
     "output_type": "stream",
     "text": [
      "[✅] Le fichier historique stocks a bien été enregistré sous le nom\n"
     ]
    }
   ],
   "source": [
    "import pandas as pd\n",
    "import yfinance as yf\n",
    "import os\n",
    "\n",
    "\n",
    "def recuperer_et_clean_stocks(dossier_csv):\n",
    "\n",
    "\n",
    "    # Charger le fichier et prendre la liste de tous les tikers yahoo des entreprises avec les tikers les infos hist sur yfinance\n",
    "    df_tickers = pd.read_csv(os.path.join(dossier_csv, \"infos_stocks.csv\"), encoding=\"utf-8\")\n",
    "    \n",
    "    tickers_yahoo = df_tickers[\"Ticker_Yahoo_Finance\"].dropna().unique().tolist()\n",
    "    \n",
    "    # Liste pour stocker les DataFrames\n",
    "    dfs = []\n",
    "   \n",
    "    for i in tickers_yahoo:\n",
    "        try:\n",
    "            # Récupération des données historiques\n",
    "            hist = yf.Ticker(i).history(period=\"max\", interval=\"1wk\")\n",
    "    \n",
    "            # Ajouter les colonnes 'Ticker_Yahoo_Finance'\n",
    "            hist['Ticker_Yahoo_Finance'] = i\n",
    "    \n",
    "            # Ajouter le DataFrame historique dans la liste\n",
    "            dfs.append(hist)\n",
    "          \n",
    "        except Exception as e:\n",
    "            print(f\"Erreur lors de la récupération des données pour {i}: {e}\")\n",
    "    \n",
    "    # Concaténation de tous les DataFrames\n",
    "    df = pd.concat(dfs)\n",
    "    df.reset_index(inplace=True)\n",
    "    \n",
    "  \n",
    "############################################ NETTOYAGE DATAFRAME ############################################\n",
    "\n",
    "    # Supprimer colonnes inutiles\n",
    "    df = df.drop(columns=[\"Open\", \"High\", \"Low\", \"Volume\", \"Dividends\", \"Stock Splits\", \"Capital Gains\", \"Adj Close\"], errors=\"ignore\")\n",
    "    \n",
    "    # Convertir la colonne \"Date\" en format datetime et reformater en \"JJ-MM-AAAA\"\n",
    "    df[\"Date\"] = pd.to_datetime(df[\"Date\"], errors=\"coerce\", utc=True).dt.strftime(\"%d-%m-%Y\")\n",
    "    \n",
    "    # Création colonne Ticker sans suffix\n",
    "    df[\"Ticker\"] = df[\"Ticker_Yahoo_Finance\"].str.split(\".\").str[0]\n",
    "    \n",
    "    # Arrondir la colonne \"Close\"\n",
    "    df[\"Close\"] = df[\"Close\"].round(4)\n",
    "\n",
    "    # Jointure avec le fichier original pour ajouter la colonne 'ShortName'\n",
    "    df = df.merge(df_tickers[[\"Ticker_Yahoo_Finance\", \"Nom_Entreprise\"]], on=\"Ticker_Yahoo_Finance\", how=\"left\")\n",
    "\n",
    "    # Réorganiser les colonnes dans l'ordre souhaité\n",
    "    df = df[[\"Date\", \"Close\", \"Ticker\", \"Ticker_Yahoo_Finance\", \"Short_Name\"]]\n",
    "    \n",
    "    # Enregistrer le fichier modifié\n",
    "    df.to_csv(os.path.join(dossier_csv, \"historique_stocks.csv\"), index=False, encoding=\"utf-8\")\n",
    "    print(f\"[✅] Le fichier historique stocks a bien été enregistré sous le nom\")\n",
    "    \n",
    "    return df\n",
    "\n",
    "if __name__ == \"__main__\":\n",
    "    recuperer_et_clean_stocks = recuperer_et_clean_stocks(\"csv\") #Appel de la fonction\n"
   ]
  },
  {
   "cell_type": "code",
   "execution_count": null,
   "id": "44bd6f01-b1e4-4e4e-8d41-73b147277f6d",
   "metadata": {},
   "outputs": [],
   "source": []
  }
 ],
 "metadata": {
  "kernelspec": {
   "display_name": "Python 3 (ipykernel)",
   "language": "python",
   "name": "python3"
  },
  "language_info": {
   "codemirror_mode": {
    "name": "ipython",
    "version": 3
   },
   "file_extension": ".py",
   "mimetype": "text/x-python",
   "name": "python",
   "nbconvert_exporter": "python",
   "pygments_lexer": "ipython3",
   "version": "3.12.4"
  }
 },
 "nbformat": 4,
 "nbformat_minor": 5
}

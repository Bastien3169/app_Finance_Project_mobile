{
 "cells": [
  {
   "cell_type": "code",
   "execution_count": 3,
   "id": "cd6e85fe-9bff-47da-926d-881332b6941e",
   "metadata": {},
   "outputs": [],
   "source": [
    "import os\n",
    "import glob\n",
    "import pandas as pd\n",
    "\n",
    "\n",
    "def infos_stocks() :\n",
    "    # Chemin des fichiers CSV\n",
    "    fichiers_csv = glob.glob(\"csv/composition_*.csv\")\n",
    "    \n",
    "    # Liste pour stocker les DataFrames\n",
    "    dfs = []\n",
    "    \n",
    "    # Chargement des fichiers CSV\n",
    "    for i in fichiers_csv:\n",
    "        df = pd.read_csv(i)\n",
    "        dfs.append(df)\n",
    "    \n",
    "    # Concaténation de tous les DataFrames\n",
    "    df_concat = pd.concat(dfs, ignore_index=True)\n",
    "    \n",
    "    # Suppression des doublons basés sur la colonne du ticker (remplace 'Ticker' par le vrai nom de la colonne)\n",
    "    df_final = df_concat.drop_duplicates(subset=['Ticker'])\n",
    "    \n",
    "    # Enlever les colonnes qui ne ne veullent plus rien dire ici\n",
    "    df_final = df_final.drop(columns=[\"Ponderation\", \"Nom_Indice\", \"Ticker_Indice_Yahoo\", \"Nombres_Entreprises\"])\n",
    "    \n",
    "    # Sauvegarde du fichier fusionné sans doublons\n",
    "    df_final.to_csv(\"csv/infos_stocks.csv\", index=False, encoding=\"utf-8\")\n",
    "    \n",
    "    # Affichage du DataFrame final\n",
    "    return df_final\n",
    "\n",
    "if __name__ == \"__main__\":\n",
    "    infos_stocks = infos_stocks() #Appel de la fonction"
   ]
  },
  {
   "cell_type": "code",
   "execution_count": null,
   "id": "1000db08-fc25-4dca-9466-6c7bff5a0480",
   "metadata": {},
   "outputs": [],
   "source": []
  }
 ],
 "metadata": {
  "kernelspec": {
   "display_name": "Python 3 (ipykernel)",
   "language": "python",
   "name": "python3"
  },
  "language_info": {
   "codemirror_mode": {
    "name": "ipython",
    "version": 3
   },
   "file_extension": ".py",
   "mimetype": "text/x-python",
   "name": "python",
   "nbconvert_exporter": "python",
   "pygments_lexer": "ipython3",
   "version": "3.12.4"
  }
 },
 "nbformat": 4,
 "nbformat_minor": 5
}

{
 "cells": [
  {
   "cell_type": "code",
   "execution_count": 1,
   "id": "f5b457a3-017c-49a7-b172-ac2287aa88b0",
   "metadata": {
    "scrolled": true
   },
   "outputs": [
    {
     "name": "stdout",
     "output_type": "stream",
     "text": [
      "[✅] Le fichier scraping a bien été enregistré\n",
      "[✅] Le fichier pour l'indice 'CAC 40' a bien été enregistré sous le nom : csv/composition_france.csv\n",
      "[✅] Le fichier infos stocks a bien été enregistré sous le nom\n",
      "[✅] Le fichier infos indices a bien été enregistré sous le nom\n",
      "[✅] Le fichier historique indices a bien été enregistré sous le nom\n",
      "[✅] Le fichier historique stocks a bien été enregistré sous le nom\n",
      "[✅] Tables créées avec succès.\n",
      "Table composition_dowjones ajoutée avec succès.\n",
      "Table composition_nasdaq100 ajoutée avec succès.\n",
      "Table composition_angleterre ajoutée avec succès.\n",
      "Table composition_paysbas ajoutée avec succès.\n",
      "Table composition_europe50 ajoutée avec succès.\n",
      "Table composition_suede ajoutée avec succès.\n",
      "Table composition_belgique ajoutée avec succès.\n",
      "Table composition_france ajoutée avec succès.\n",
      "Table composition_finlande ajoutée avec succès.\n",
      "Table composition_danemark ajoutée avec succès.\n",
      "Table composition_espagne ajoutée avec succès.\n",
      "Table composition_italie ajoutée avec succès.\n",
      "Table composition_dax ajoutée avec succès.\n",
      "Table composition_japon ajoutée avec succès.\n",
      "Table composition_sp500 ajoutée avec succès.\n",
      "[✅] Importation des CSV dans la base de données terminée.\n",
      "[✅]✅] Toutes les étapes ont été exécutées avec succès.\n"
     ]
    }
   ],
   "source": [
    "# main.py\n",
    "import os\n",
    "import scraping_tickers  # Pour récupérer les tickers\n",
    "import composition_indices  # Pour obtenir les infos des entreprises par indice\n",
    "import infos_stocks  # Pour concaténer les informations des entreprises et les stocker en CSV\n",
    "import infos_indices  # Pour récupérer les infos des indices et les stocker en CSV\n",
    "import hist_indices  # Pour récupérer l'historique des prix des indices\n",
    "import hist_stocks  # Pour récupérer l'historique des prix des entreprises\n",
    "import sql_datas # Pour créer la base de donnée sql\n",
    "\n",
    "def main_db_datas():\n",
    "\n",
    "    # Chemin commun à passer\n",
    "    dossier_csv = \"csv/\" \n",
    "    db_path = \"csv/data.db\"\n",
    "    \n",
    "   # Étape 1: Scraper les tickers de chaque indice\n",
    "    #scraping_tickers.all_tickers_yf()\n",
    "    \n",
    "    # Étape 2: Récupérer les informations des entreprises pour chaque indice\n",
    "    composition_indices.csv_indices(dossier_csv)\n",
    "\n",
    "    # Étape 3: Concaténer et sauvegarder les données des entreprises\n",
    "    infos_stocks.infos_stocks(dossier_csv) \n",
    "\n",
    "    # Étape 4: Récupérer et sauvegarder les informations des indices\n",
    "    infos_indices.infos_indices(dossier_csv)\n",
    "\n",
    "    # Étape 5: Récupérer et sauvegarder l'historique des prix des indices\n",
    "    hist_indices.recuperer_et_clean_indices(dossier_csv)\n",
    "\n",
    "    # Étape 6: Récupérer et sauvegarder l'historique des prix des entreprises\n",
    "    hist_stocks.recuperer_et_clean_stocks(dossier_csv)\n",
    "\n",
    "    # Étape 7 : Création de la base de donnée\n",
    "    sql_datas.main_creation_db(dossier_csv, db_path)\n",
    "\n",
    "    print(\"[✅]✅] Toutes les étapes ont été exécutées avec succès.\")\n",
    "\n",
    "if __name__ == \"__main__\":\n",
    "    main_db_datas()\n"
   ]
  },
  {
   "cell_type": "code",
   "execution_count": null,
   "id": "9c78df03-5c82-4b99-a03c-195606a5f1c2",
   "metadata": {},
   "outputs": [],
   "source": []
  }
 ],
 "metadata": {
  "kernelspec": {
   "display_name": "Python 3 (ipykernel)",
   "language": "python",
   "name": "python3"
  },
  "language_info": {
   "codemirror_mode": {
    "name": "ipython",
    "version": 3
   },
   "file_extension": ".py",
   "mimetype": "text/x-python",
   "name": "python",
   "nbconvert_exporter": "python",
   "pygments_lexer": "ipython3",
   "version": "3.12.4"
  }
 },
 "nbformat": 4,
 "nbformat_minor": 5
}

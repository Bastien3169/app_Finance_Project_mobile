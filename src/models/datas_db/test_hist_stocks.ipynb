{
 "cells": [
  {
   "cell_type": "code",
   "execution_count": 2,
   "id": "3323b0af-aadf-4bd6-af7d-6dbfc8633aee",
   "metadata": {},
   "outputs": [
    {
     "name": "stdout",
     "output_type": "stream",
     "text": [
      "[✅] Le fichier historique stocks a bien été enregistré sous le nom 'historique_stocks.csv'\n"
     ]
    }
   ],
   "source": [
    "import pandas as pd\n",
    "import yfinance as yf\n",
    "import os\n",
    "\n",
    "def recuperer_et_clean_stocks(csv_bdd):\n",
    "    # Charger le fichier de tickers et infos\n",
    "    df_tickers = pd.read_csv(os.path.join(csv_bdd, \"stocks_infos_par_indice.csv\"), encoding=\"utf-8\")\n",
    "    tickers_yahoo = df_tickers[\"Ticker_Stocks_Yf\"].dropna().unique().tolist()\n",
    "    \n",
    "    dfs = []\n",
    "   \n",
    "    for i in tickers_yahoo:\n",
    "        try:\n",
    "            ticker = yf.Ticker(i)\n",
    "            hist = ticker.history(period=\"max\", interval=\"1wk\")\n",
    "    \n",
    "            if hist.empty:\n",
    "                print(f\"⚠️ Historique vide pour {i}.\")\n",
    "                continue\n",
    "\n",
    "            # Ajoute la colonne du ticker\n",
    "            hist[\"Ticker_Stocks_Yf\"] = i\n",
    "\n",
    "            # Ajoute directement le Short_Name_Stocks\n",
    "            short_name = df_tickers.loc[df_tickers[\"Ticker_Stocks_Yf\"] == i, \"Short_Name_Stocks\"].values\n",
    "            hist[\"Short_Name_Stocks\"] = short_name[0] if len(short_name) > 0 else \"N/A\"\n",
    "    \n",
    "            dfs.append(hist)\n",
    "          \n",
    "        except Exception as e:\n",
    "            print(f\"Erreur lors de la récupération des données pour {i}: {e}\")\n",
    "            continue\n",
    "    \n",
    "    if not dfs:\n",
    "        print(\"❌ Aucun historique récupéré, création d'un fichier CSV vide.\")\n",
    "        df = pd.DataFrame(columns=[\"Date\", \"Close\", \"Ticker_Stocks_Yf\", \"Short_Name_Stocks\"])\n",
    "        df.to_csv(os.path.join(csv_bdd, \"historique_stocks.csv\"), index=False, encoding=\"utf-8\")\n",
    "        return df\n",
    "    \n",
    "    # Concaténation de tous les historiques\n",
    "    df = pd.concat(dfs)\n",
    "    df.reset_index(inplace=True)\n",
    "    \n",
    "    ############################################ NETTOYAGE DATAFRAME ############################################\n",
    "    \n",
    "    # Supprimer colonnes inutiles\n",
    "    df = df.drop(columns=[\"Open\", \"High\", \"Low\", \"Volume\", \"Dividends\", \"Stock Splits\", \"Capital Gains\", \"Adj Close\"], errors=\"ignore\")\n",
    "    \n",
    "    # Convertir la colonne \"Date\" en format datetime et reformater en \"JJ-MM-AAAA\"\n",
    "    df[\"Date\"] = pd.to_datetime(df[\"Date\"], errors=\"coerce\", utc=True).dt.strftime(\"%d-%m-%Y\")\n",
    "    \n",
    "    # Arrondir la colonne \"Close\"\n",
    "    df[\"Close\"] = df[\"Close\"].round(4)\n",
    "    \n",
    "    # Réorganiser les colonnes\n",
    "    df = df[[\"Date\", \"Close\", \"Ticker_Stocks_Yf\", \"Short_Name_Stocks\"]]\n",
    "    \n",
    "    # Sauvegarde\n",
    "    df.to_csv(os.path.join(csv_bdd, \"historique_stocks.csv\"), index=False, encoding=\"utf-8\")\n",
    "    print(f\"[✅] Le fichier historique stocks a bien été enregistré sous le nom 'historique_stocks.csv'\")\n",
    "    \n",
    "    return df\n",
    "\n",
    "if __name__ == \"__main__\":\n",
    "    recuperer_et_clean_stocks(csv_bdd = \"csv/csv_bdd/\")\n"
   ]
  },
  {
   "cell_type": "code",
   "execution_count": null,
   "id": "44bd6f01-b1e4-4e4e-8d41-73b147277f6d",
   "metadata": {},
   "outputs": [],
   "source": []
  }
 ],
 "metadata": {
  "kernelspec": {
   "display_name": "Python 3 (ipykernel)",
   "language": "python",
   "name": "python3"
  },
  "language_info": {
   "codemirror_mode": {
    "name": "ipython",
    "version": 3
   },
   "file_extension": ".py",
   "mimetype": "text/x-python",
   "name": "python",
   "nbconvert_exporter": "python",
   "pygments_lexer": "ipython3",
   "version": "3.12.4"
  }
 },
 "nbformat": 4,
 "nbformat_minor": 5
}

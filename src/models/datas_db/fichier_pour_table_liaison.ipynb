{
 "cells": [
  {
   "cell_type": "code",
   "execution_count": null,
   "id": "d1616ce7-258b-4eb8-8901-028797d2561b",
   "metadata": {},
   "outputs": [],
   "source": [
    "from src.models.datas_db import composition_indices, hist_indices, hist_stocks, infos_indices, infos_stocks, sql_datas\n",
    "\n",
    "\n",
    "def main_db_datas(dossier_csv, csv_bdd, db_path):\n",
    "\n",
    "    # Étape 1: Scraper les tickers de chaque indice et Récupérer les informations des entreprises pour chaque indice\n",
    "    composition_indices.csv_indices(dossier_csv)\n",
    "\n",
    "    # Étape 2: Concaténer et sauvegarder les données des entreprises\n",
    "    infos_stocks.infos_stocks(dossier_csv, csv_bdd) \n",
    "\n",
    "    # Étape 3: Récupérer et sauvegarder les informations des indices\n",
    "    infos_indices.infos_indices(dossier_csv, csv_bdd)\n",
    "\n",
    "    # Étape 4: Récupérer et sauvegarder unisquement tickers infos et indices\n",
    "    infos_indices.ticker_stocks_indices(dossier_csv, csv_bdd)\n",
    "\n",
    "    # Étape 5: Récupérer et sauvegarder l'historique des prix des indices\n",
    "    hist_indices.recuperer_et_clean_indices(csv_bdd)\n",
    "\n",
    "    # Étape 6: Récupérer et sauvegarder l'historique des prix des entreprises\n",
    "    hist_stocks.recuperer_et_clean_stocks(csv_bdd)\n",
    "\n",
    "    # Étape 7: Création de la base de donnée\n",
    "    sql_datas.main_creation_db(csv_bdd, db_path)\n",
    "\n",
    "    print(\"[✅]✅] Toutes les étapes ont été exécutées avec succès.\")"
   ]
  }
 ],
 "metadata": {
  "kernelspec": {
   "display_name": "Python 3 (ipykernel)",
   "language": "python",
   "name": "python3"
  },
  "language_info": {
   "codemirror_mode": {
    "name": "ipython",
    "version": 3
   },
   "file_extension": ".py",
   "mimetype": "text/x-python",
   "name": "python",
   "nbconvert_exporter": "python",
   "pygments_lexer": "ipython3",
   "version": "3.12.4"
  }
 },
 "nbformat": 4,
 "nbformat_minor": 5
}
